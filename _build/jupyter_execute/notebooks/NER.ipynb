{
 "cells": [
  {
   "cell_type": "code",
   "execution_count": 1,
   "metadata": {
    "colab": {
     "base_uri": "https://localhost:8080/"
    },
    "id": "WX-WSpOR1SRN",
    "outputId": "70f74da6-8ae9-4136-908c-cacd5c0a6fa2"
   },
   "outputs": [
    {
     "ename": "ModuleNotFoundError",
     "evalue": "No module named 'spacy'",
     "output_type": "error",
     "traceback": [
      "\u001b[1;31m---------------------------------------------------------------------------\u001b[0m",
      "\u001b[1;31mModuleNotFoundError\u001b[0m                       Traceback (most recent call last)",
      "\u001b[1;32m~\\AppData\\Local\\Temp\\ipykernel_1728\\1352668536.py\u001b[0m in \u001b[0;36m<module>\u001b[1;34m\u001b[0m\n\u001b[1;32m----> 1\u001b[1;33m \u001b[1;32mimport\u001b[0m \u001b[0mspacy\u001b[0m\u001b[1;33m\u001b[0m\u001b[1;33m\u001b[0m\u001b[0m\n\u001b[0m\u001b[0;32m      2\u001b[0m \u001b[0mnlp\u001b[0m\u001b[1;33m=\u001b[0m\u001b[0mspacy\u001b[0m\u001b[1;33m.\u001b[0m\u001b[0mload\u001b[0m\u001b[1;33m(\u001b[0m\u001b[1;34m'en_core_web_sm'\u001b[0m\u001b[1;33m)\u001b[0m\u001b[1;33m\u001b[0m\u001b[1;33m\u001b[0m\u001b[0m\n\u001b[0;32m      3\u001b[0m \u001b[1;33m\u001b[0m\u001b[0m\n\u001b[0;32m      4\u001b[0m \u001b[0mnlp\u001b[0m\u001b[1;33m.\u001b[0m\u001b[0mpipe_names\u001b[0m\u001b[1;33m\u001b[0m\u001b[1;33m\u001b[0m\u001b[0m\n",
      "\u001b[1;31mModuleNotFoundError\u001b[0m: No module named 'spacy'"
     ]
    }
   ],
   "source": [
    "import spacy\r\n",
    "nlp=spacy.load('en_core_web_sm')\r\n",
    "\r\n",
    "nlp.pipe_names"
   ]
  },
  {
   "cell_type": "code",
   "execution_count": 2,
   "metadata": {
    "colab": {
     "base_uri": "https://localhost:8080/"
    },
    "id": "HFyCXMiJ1Tbm",
    "outputId": "ac07ed04-fba4-42a2-f789-ce2033876c46"
   },
   "outputs": [
    {
     "name": "stdout",
     "output_type": "stream",
     "text": [
      "India GPE\n",
      "one CARDINAL\n",
      "Indian NORP\n",
      "USD 84 billion MONEY\n",
      "2021 DATE\n",
      "USD 24 billion MONEY\n",
      "2017 DATE\n",
      "India GPE\n",
      "Philip PERSON\n",
      "12% PERCENT\n",
      "2017 DATE\n",
      "22-25% PERCENT\n",
      "2021 DATE\n",
      "India GPE\n",
      "Amazon ORG\n",
      "One CARDINAL\n",
      "Amazon ORG\n",
      "Amazon ORG\n",
      "Amazon Music Limited ORG\n",
      "Flipkart PERSON\n",
      "2007 DATE\n",
      "Flipkart PERSON\n",
      "Indian NORP\n",
      "Amazon ORG\n",
      "Walmart LOC\n",
      "one CARDINAL\n",
      "US GPE\n",
      "Amazon ORG\n",
      "daily DATE\n",
      "2010 DATE\n",
      "2011 DATE\n",
      "more than 3 CARDINAL\n",
      "India GPE\n",
      "over 30 million CARDINAL\n",
      "over 125,000 CARDINAL\n",
      "Indian NORP\n",
      "recent years DATE\n",
      "Freecharge PERSON\n",
      "Unicommerce GPE\n",
      "ShopClues PERSON\n",
      "Indian NORP\n",
      "ShopClues ORG\n",
      "July 2011 DATE\n",
      "Gurugram ORG\n",
      "INR ORG\n",
      "1.1 billion CARDINAL\n",
      "Nexus Venture Partners ORG\n",
      "Helion Ventures ORG\n",
      "more than 5 CARDINAL\n",
      "nine CARDINAL\n",
      "Paytm Mall PERSON\n",
      "Paytm ORG\n",
      "Paytm Mall FAC\n",
      "third ORDINAL\n",
      "Paytm GPE\n",
      "Indian NORP\n",
      "Reliance ORG\n",
      "Reliance ORG\n",
      "India GPE\n",
      "Big Basket ORG\n",
      "two CARDINAL\n",
      "One CARDINAL\n",
      "2013 DATE\n",
      "the last 5 years DATE\n",
      "daily DATE\n",
      "India GPE\n",
      "Indian NORP\n",
      "Digital Mall FAC\n",
      "Asia LOC\n",
      "2020 DATE\n",
      "Digital Mall ORG\n",
      "Asia LOC\n",
      "Yokeasia Malls GPE\n",
      "zero CARDINAL\n",
      "monthly DATE\n",
      "one CARDINAL\n"
     ]
    }
   ],
   "source": [
    "article_text=\"\"\"India that previously comprised only a handful of players in the e-commerce space, is now home to many biggies and giants battling out with each other to reach the top. This is thanks to the overwhelming internet and smartphone penetration coupled with the ever-increasing digital adoption across the country. These new-age innovations not only gave emerging startups a unique platform to deliver seamless shopping experiences but also provided brick and mortar stores with a level-playing field to begin their online journeys without leaving their offline legacies.\r\n",
    "In the wake of so many players coming together on one platform, the Indian e-commerce market is envisioned to reach USD 84 billion in 2021 from USD 24 billion in 2017. Further, with the rate at which internet penetration is increasing, we can expect more and more international retailers coming to India in addition to a large pool of new startups. This, in turn, will provide a major Philip to the organized retail market and boost its share from 12% in 2017 to 22-25% by 2021. \r\n",
    "Here’s a view to the e-commerce giants that are dominating India’s online shopping space:\r\n",
    "Amazon – One of the uncontested global leaders, Amazon started its journey as a simple online bookstore that gradually expanded its reach to provide a large suite of diversified products including media, furniture, food, and electronics, among others. And now with the launch of Amazon Prime and Amazon Music Limited, it has taken customer experience to a godly level, which will remain undefeatable for a very long time. \r\n",
    "Flipkart – Founded in 2007, Flipkart is recognized as the national leader in the Indian e-commerce market. Just like Amazon, it started operating by selling books and then entered other categories such as electronics, fashion, and lifestyle, mobile phones, etc. And now that it has been acquired by Walmart, one of the largest leading platforms of e-commerce in the US, it has also raised its bar of customer offerings in all aspects and giving huge competition to Amazon. \r\n",
    "Snapdeal – Started as a daily deals platform in 2010, Snapdeal became a full-fledged online marketplace in 2011 comprising more than 3 lac sellers across India. The platform offers over 30 million products across 800+ diverse categories from over 125,000 regional, national, and international brands and retailers. The Indian e-commerce firm follows a robust strategy to stay at the forefront of innovation and deliver seamless customer offerings to its wide customer base. It has shown great potential for recovery in recent years despite losing Freecharge and Unicommerce. \r\n",
    "ShopClues – Another renowned name in the Indian e-commerce industry, ShopClues was founded in July 2011. It’s a Gurugram based company having a current valuation of INR 1.1 billion and is backed by prominent names including Nexus Venture Partners, Tiger Global, and Helion Ventures as its major investors. Presently, the platform comprises more than 5 lac sellers selling products in nine different categories such as computers, cameras, mobiles, etc. \r\n",
    "Paytm Mall – To compete with the existing e-commerce giants, Paytm, an online payment system has also launched its online marketplace – Paytm Mall, which offers a wide array of products ranging from men and women fashion to groceries and cosmetics, electronics and home products, and many more. The unique thing about this platform is that it serves as a medium for third parties to sell their products directly through the widely-known app – Paytm. \r\n",
    "Reliance Retail – Given Reliance Jio’s disruptive venture in the Indian telecom space along with a solid market presence of Reliance, it is no wonder that Reliance will soon be foraying into retail space. As of now, it has plans to build an e-commerce space that will be established on online-to-offline market program and aim to bring local merchants on board to help them boost their sales and compete with the existing industry leaders. \r\n",
    "Big Basket – India’s biggest online supermarket, Big Basket provides a wide variety of imported and gourmet products through two types of delivery services – express delivery and slotted delivery. It also offers pre-cut fruits along with a long list of beverages including fresh juices, cold drinks, hot teas, etc. Moreover, it not only provides farm-fresh products but also ensures that the farmer gets better prices. \r\n",
    "Grofers – One of the leading e-commerce players in the grocery segment, Grofers started its operations in 2013 and has reached overwhelming heights in the last 5 years. Its wide range of products includes atta, milk, oil, daily need products, vegetables, dairy products, juices, beverages, among others. With its growing reach across India, it has become one of the favorite supermarkets for Indian consumers who want to shop grocery items from the comforts of their homes. \r\n",
    "Digital Mall of Asia – Going live in 2020, Digital Mall of Asia is a very unique concept coined by the founders of Yokeasia Malls. It is designed to provide an immersive digital space equipped with multiple visual and sensory elements to sellers and shoppers. It will also give retailers exclusive rights to sell a particular product category or brand in their respective cities. What makes it unique is its zero-commission model enabling retailers to pay only a fixed amount of monthly rental instead of paying commissions. With its one-of-a-kind features, DMA is expected to bring\r\n",
    "never-seen transformation to the current e-commerce ecosystem while addressing all the existing e-commerce worries such as counterfeiting. \"\"\"\r\n",
    "\r\n",
    "doc=nlp(article_text)\r\n",
    "for ent in doc.ents:\r\n",
    "  print(ent.text,ent.label_)"
   ]
  },
  {
   "cell_type": "code",
   "execution_count": 3,
   "metadata": {
    "id": "HNmcL6xN1a7c"
   },
   "outputs": [],
   "source": [
    "# Load pre-existing spacy model\r\n",
    "import spacy\r\n",
    "nlp=spacy.load('en_core_web_sm')\r\n",
    "\r\n",
    "# Getting the pipeline component\r\n",
    "ner=nlp.get_pipe(\"ner\")"
   ]
  },
  {
   "cell_type": "code",
   "execution_count": 4,
   "metadata": {
    "id": "_k2e3Eba1kDg"
   },
   "outputs": [],
   "source": [
    "# training data\r\n",
    "TRAIN_DATA = [\r\n",
    "              (\"Walmart is a leading e-commerce company\", {\"entities\": [(0, 7, \"ORG\")]}),\r\n",
    "              (\"I reached Chennai yesterday.\", {\"entities\": [(19, 28, \"GPE\")]}),\r\n",
    "              (\"I recently ordered a book from Amazon\", {\"entities\": [(24,32, \"ORG\")]}),\r\n",
    "              (\"I was driving a BMW\", {\"entities\": [(16,19, \"PRODUCT\")]}),\r\n",
    "              (\"I ordered this from ShopClues\", {\"entities\": [(20,29, \"ORG\")]}),\r\n",
    "              (\"Fridge can be ordered in Amazon \", {\"entities\": [(0,6, \"PRODUCT\")]}),\r\n",
    "              (\"I bought a new Washer\", {\"entities\": [(16,22, \"PRODUCT\")]}),\r\n",
    "              (\"I bought a old table\", {\"entities\": [(16,21, \"PRODUCT\")]}),\r\n",
    "              (\"I bought a fancy dress\", {\"entities\": [(18,23, \"PRODUCT\")]}),\r\n",
    "              (\"I rented a camera\", {\"entities\": [(12,18, \"PRODUCT\")]}),\r\n",
    "              (\"I rented a tent for our trip\", {\"entities\": [(12,16, \"PRODUCT\")]}),\r\n",
    "              (\"I rented a screwdriver from our neighbour\", {\"entities\": [(12,22, \"PRODUCT\")]}),\r\n",
    "              (\"I repaired my computer\", {\"entities\": [(15,23, \"PRODUCT\")]}),\r\n",
    "              (\"I got my clock fixed\", {\"entities\": [(16,21, \"PRODUCT\")]}),\r\n",
    "              (\"I got my truck fixed\", {\"entities\": [(16,21, \"PRODUCT\")]}),\r\n",
    "              (\"Flipkart started it's journey from zero\", {\"entities\": [(0,8, \"ORG\")]}),\r\n",
    "              (\"I recently ordered from Max\", {\"entities\": [(24,27, \"ORG\")]}),\r\n",
    "              (\"Flipkart is recognized as leader in market\",{\"entities\": [(0,8, \"ORG\")]}),\r\n",
    "              (\"I recently ordered from Swiggy\", {\"entities\": [(24,29, \"ORG\")]})\r\n",
    "              ]"
   ]
  },
  {
   "cell_type": "code",
   "execution_count": 5,
   "metadata": {
    "id": "kjx2Quq01qnO"
   },
   "outputs": [],
   "source": [
    "# Adding labels to the `ner`\r\n",
    "\r\n",
    "for _, annotations in TRAIN_DATA:\r\n",
    "  for ent in annotations.get(\"entities\"):\r\n",
    "    ner.add_label(ent[2])"
   ]
  },
  {
   "cell_type": "code",
   "execution_count": 6,
   "metadata": {
    "id": "_u5Twuha1v2W"
   },
   "outputs": [],
   "source": [
    "# Disable pipeline components you dont need to change\r\n",
    "pipe_exceptions = [\"ner\", \"trf_wordpiecer\", \"trf_tok2vec\"]\r\n",
    "unaffected_pipes = [pipe for pipe in nlp.pipe_names if pipe not in pipe_exceptions]"
   ]
  },
  {
   "cell_type": "code",
   "execution_count": 7,
   "metadata": {
    "colab": {
     "base_uri": "https://localhost:8080/"
    },
    "id": "JplquW9c1ybn",
    "outputId": "0d71882e-32f6-422f-9d1a-50d4d7c6a614"
   },
   "outputs": [
    {
     "name": "stdout",
     "output_type": "stream",
     "text": [
      "Losses {'ner': 2.79802933310566}\n",
      "Losses {'ner': 6.5572232708655065}\n",
      "Losses {'ner': 10.583572480853945}\n",
      "Losses {'ner': 17.166763482641727}\n",
      "Losses {'ner': 20.201538555150364}\n",
      "Losses {'ner': 3.4893938341992907}\n",
      "Losses {'ner': 8.978925689560128}\n",
      "Losses {'ner': 10.579508926236485}\n",
      "Losses {'ner': 16.459385909824277}\n",
      "Losses {'ner': 16.470705719528496}\n",
      "Losses {'ner': 1.452162479661638}\n",
      "Losses {'ner': 3.856365315362382}\n",
      "Losses {'ner': 7.9372624837496915}\n",
      "Losses {'ner': 7.990312834569522}\n",
      "Losses {'ner': 8.969974007675773}\n",
      "Losses {'ner': 0.7285027665193411}\n",
      "Losses {'ner': 3.872999651385726}\n",
      "Losses {'ner': 9.735922971615764}\n",
      "Losses {'ner': 9.93126372117149}\n",
      "Losses {'ner': 9.938528795466482}\n",
      "Losses {'ner': 4.626099403368698}\n",
      "Losses {'ner': 6.214422158788693}\n",
      "Losses {'ner': 8.3112459592312}\n",
      "Losses {'ner': 8.496483260520108}\n",
      "Losses {'ner': 9.120695187717615}\n",
      "Losses {'ner': 2.5058818782621586}\n",
      "Losses {'ner': 3.1848983159455884}\n",
      "Losses {'ner': 6.953785156716776}\n",
      "Losses {'ner': 6.9570558902635184}\n",
      "Losses {'ner': 10.395410954551693}\n",
      "Losses {'ner': 0.000723030280482817}\n",
      "Losses {'ner': 1.8818408605662853}\n",
      "Losses {'ner': 1.9580674245970897}\n",
      "Losses {'ner': 5.240968269348826}\n",
      "Losses {'ner': 5.241511363715789}\n",
      "Losses {'ner': 0.5562189611225392}\n",
      "Losses {'ner': 0.5565780784770311}\n",
      "Losses {'ner': 2.963357479921541}\n",
      "Losses {'ner': 4.0896355938852995}\n",
      "Losses {'ner': 4.94005402300848}\n",
      "Losses {'ner': 0.03810759255898688}\n",
      "Losses {'ner': 3.5973440530262053}\n",
      "Losses {'ner': 7.339358486790985}\n",
      "Losses {'ner': 9.47295613386703}\n",
      "Losses {'ner': 11.284437214536421}\n",
      "Losses {'ner': 2.7364404071704485}\n",
      "Losses {'ner': 5.625474677601119}\n",
      "Losses {'ner': 6.660895514845656}\n",
      "Losses {'ner': 10.190450851534301}\n",
      "Losses {'ner': 10.318094390890804}\n",
      "Losses {'ner': 0.9261451550414677}\n",
      "Losses {'ner': 3.039627280901641}\n",
      "Losses {'ner': 3.0513683121012036}\n",
      "Losses {'ner': 4.533934560144644}\n",
      "Losses {'ner': 4.533970482529077}\n",
      "Losses {'ner': 0.964594695598123}\n",
      "Losses {'ner': 0.9863216580657763}\n",
      "Losses {'ner': 4.183950310742716}\n",
      "Losses {'ner': 5.747506924562506}\n",
      "Losses {'ner': 5.762332213668982}\n",
      "Losses {'ner': 4.417288150583962}\n",
      "Losses {'ner': 4.657713579045057}\n",
      "Losses {'ner': 4.672685057090604}\n",
      "Losses {'ner': 5.388438017631017}\n",
      "Losses {'ner': 5.420051094861435}\n",
      "Losses {'ner': 0.18962987582263224}\n",
      "Losses {'ner': 2.103494854193926}\n",
      "Losses {'ner': 2.145464715558049}\n",
      "Losses {'ner': 2.2107951991922357}\n",
      "Losses {'ner': 3.3110271830939166}\n",
      "Losses {'ner': 1.0839667639011168}\n",
      "Losses {'ner': 1.0844552438647952}\n",
      "Losses {'ner': 1.1328061301257293}\n",
      "Losses {'ner': 1.1358688179776948}\n",
      "Losses {'ner': 1.7157223818723375}\n",
      "Losses {'ner': 0.001391281259373045}\n",
      "Losses {'ner': 0.10303413286843721}\n",
      "Losses {'ner': 0.8815720854139761}\n",
      "Losses {'ner': 0.8967971476019136}\n",
      "Losses {'ner': 0.9019769164182426}\n",
      "Losses {'ner': 1.654294196007529}\n",
      "Losses {'ner': 1.6546032005604496}\n",
      "Losses {'ner': 2.1037302487281195}\n",
      "Losses {'ner': 4.080348539148101}\n",
      "Losses {'ner': 4.080365592804945}\n",
      "Losses {'ner': 0.32676053962278195}\n",
      "Losses {'ner': 0.5972791685962766}\n",
      "Losses {'ner': 0.7261824753771184}\n",
      "Losses {'ner': 2.151414543575516}\n",
      "Losses {'ner': 2.15141945832744}\n",
      "Losses {'ner': 0.0007311550114887655}\n",
      "Losses {'ner': 1.1595254684516396}\n",
      "Losses {'ner': 1.1596923739452702}\n",
      "Losses {'ner': 3.182830286679239}\n",
      "Losses {'ner': 3.191491202790899}\n",
      "Losses {'ner': 1.3779206073464803}\n",
      "Losses {'ner': 1.4973354036342224}\n",
      "Losses {'ner': 1.5161560012451578}\n",
      "Losses {'ner': 1.8782089616097797}\n",
      "Losses {'ner': 1.8782135815594732}\n",
      "Losses {'ner': 0.009040009844278385}\n",
      "Losses {'ner': 0.013932552335778333}\n",
      "Losses {'ner': 1.7699211929273935}\n",
      "Losses {'ner': 1.9564442579510453}\n",
      "Losses {'ner': 2.136745253750152}\n",
      "Losses {'ner': 1.8967500109432541e-06}\n",
      "Losses {'ner': 0.001523974231300351}\n",
      "Losses {'ner': 0.0037596282318862473}\n",
      "Losses {'ner': 0.004145050804989562}\n",
      "Losses {'ner': 0.5755559537612337}\n",
      "Losses {'ner': 0.0005346685964555675}\n",
      "Losses {'ner': 0.17060602139713735}\n",
      "Losses {'ner': 0.17060861453141796}\n",
      "Losses {'ner': 0.1936667708497245}\n",
      "Losses {'ner': 0.38054475758435974}\n",
      "Losses {'ner': 0.15408084836030897}\n",
      "Losses {'ner': 1.0357000088604063}\n",
      "Losses {'ner': 1.0362832845025751}\n",
      "Losses {'ner': 3.494905239471497}\n",
      "Losses {'ner': 3.4949247893226314}\n",
      "Losses {'ner': 0.0007469517644334983}\n",
      "Losses {'ner': 1.2352942383716805}\n",
      "Losses {'ner': 2.445694195119488}\n",
      "Losses {'ner': 2.448697806506084}\n",
      "Losses {'ner': 3.280585551869292}\n",
      "Losses {'ner': 0.2454245163035764}\n",
      "Losses {'ner': 0.24613928659120257}\n",
      "Losses {'ner': 0.2462838365233372}\n",
      "Losses {'ner': 0.6216570270686371}\n",
      "Losses {'ner': 0.6216570944127838}\n",
      "Losses {'ner': 0.03605511941528726}\n",
      "Losses {'ner': 0.04335675986691904}\n",
      "Losses {'ner': 0.2595648032298589}\n",
      "Losses {'ner': 0.2703440900083527}\n",
      "Losses {'ner': 3.108345198034661}\n",
      "Losses {'ner': 3.0856880187055253}\n",
      "Losses {'ner': 3.085692007039736}\n",
      "Losses {'ner': 3.085699115707172}\n",
      "Losses {'ner': 3.0858574029335593}\n",
      "Losses {'ner': 4.315502504998114}\n",
      "Losses {'ner': 2.548805532631704e-06}\n",
      "Losses {'ner': 1.3206831177781098e-05}\n",
      "Losses {'ner': 0.017183348315518238}\n",
      "Losses {'ner': 1.6225689963456464}\n",
      "Losses {'ner': 1.6241632734057336}\n",
      "Losses {'ner': 2.046577314772795}\n",
      "Losses {'ner': 2.0469600372276178}\n",
      "Losses {'ner': 2.0469606332290433}\n",
      "Losses {'ner': 2.063970443197282}\n",
      "Losses {'ner': 3.163406515439773}\n"
     ]
    }
   ],
   "source": [
    "# Import requirements\r\n",
    "import random\r\n",
    "from spacy.util import minibatch, compounding\r\n",
    "from pathlib import Path\r\n",
    "\r\n",
    "# TRAINING THE MODEL\r\n",
    "with nlp.disable_pipes(*unaffected_pipes):\r\n",
    "\r\n",
    "  # Training for 30 iterations\r\n",
    "  for iteration in range(30):\r\n",
    "\r\n",
    "    # shuufling examples  before every iteration\r\n",
    "    random.shuffle(TRAIN_DATA)\r\n",
    "    losses = {}\r\n",
    "    # batch up the examples using spaCy's minibatch\r\n",
    "    batches = minibatch(TRAIN_DATA, size=compounding(4.0, 32.0, 1.001))\r\n",
    "    for batch in batches:\r\n",
    "        texts, annotations = zip(*batch)\r\n",
    "        nlp.update(\r\n",
    "                    texts,  # batch of texts\r\n",
    "                    annotations,  # batch of annotations\r\n",
    "                    drop=0.5,  # dropout - make it harder to memorise data\r\n",
    "                    losses=losses,\r\n",
    "                )\r\n",
    "        print(\"Losses\", losses)"
   ]
  },
  {
   "cell_type": "code",
   "execution_count": 11,
   "metadata": {
    "colab": {
     "base_uri": "https://localhost:8080/"
    },
    "id": "rW0gK0n013cM",
    "outputId": "a724f6da-7330-4c3b-e963-1951b0ea4351"
   },
   "outputs": [
    {
     "name": "stdout",
     "output_type": "stream",
     "text": [
      "Entities [('Maruti', 'PRODUCT')]\n"
     ]
    }
   ],
   "source": [
    "# Testing the model\r\n",
    "doc = nlp(\"I was driving a Maruti\")\r\n",
    "print(\"Entities\", [(ent.text, ent.label_) for ent in doc.ents])"
   ]
  },
  {
   "cell_type": "code",
   "execution_count": null,
   "metadata": {
    "id": "TmsJpnYNLLBI"
   },
   "outputs": [],
   "source": []
  },
  {
   "cell_type": "code",
   "execution_count": null,
   "metadata": {
    "id": "sWs-vrLh2G44"
   },
   "outputs": [],
   "source": []
  }
 ],
 "metadata": {
  "colab": {
   "name": "Untitled8.ipynb",
   "provenance": []
  },
  "kernelspec": {
   "display_name": "Python 3",
   "name": "python3"
  },
  "language_info": {
   "codemirror_mode": {
    "name": "ipython",
    "version": 3
   },
   "file_extension": ".py",
   "mimetype": "text/x-python",
   "name": "python",
   "nbconvert_exporter": "python",
   "pygments_lexer": "ipython3",
   "version": "3.7.3"
  }
 },
 "nbformat": 4,
 "nbformat_minor": 0
}